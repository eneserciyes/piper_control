{
 "cells": [
  {
   "cell_type": "markdown",
   "metadata": {},
   "source": [
    "# Overview\n",
    "\n",
    "This notebook demostrates the usage of `piper_control`, our lightweight wrapper\n",
    "of `piper_sdk` for controlling AgileX Piper robots.\n",
    "\n",
    "The `piper_sdk` API is powerful and quickly maturing, but it's a bit complex and\n",
    "under-documented, and we found it helpful to define a simple abstraction for\n",
    "basic I/O.\n",
    "\n",
    "There are also several sharp bits in `piper_sdk` which can make the robots seem\n",
    "tempermental, e.g. becoming unresponsive despite repeated calls to\n",
    "`MotionCtrl_2`, `EnableArm`, `GripperCtrl`, etc. We've bundled our solutions\n",
    "into `PiperControl` so `reset` and the various move commands perform as one\n",
    "would expect."
   ]
  },
  {
   "cell_type": "code",
   "execution_count": 1,
   "metadata": {},
   "outputs": [],
   "source": [
    "# Enable autoreload (optional, use if modifying piper_control.py)\n",
    "%load_ext autoreload\n",
    "%autoreload 2"
   ]
  },
  {
   "cell_type": "markdown",
   "metadata": {},
   "source": [
    "# CAN Connect\n",
    "This section demonstrates the use of `piper_connect` to establish the CAN\n",
    "connection to the robot(s).\n",
    "\n",
    "It is a python counterpart to AgileX's `can_activate.sh`."
   ]
  },
  {
   "cell_type": "markdown",
   "metadata": {},
   "source": [
    "## Sudo access\n",
    "\n",
    "This cell is only required for granting sudo to `piper_connect.activate`.\n",
    "\n",
    "`piper_connect` uses `ip` and `ethtool` commands to manage CAN interfaces, and\n",
    "those tools often require sudo permissions. For this notebook to get sudo\n",
    "access, you need to run this cell."
   ]
  },
  {
   "cell_type": "markdown",
   "metadata": {},
   "source": [
    "### (Optional) passwordless sudo"
   ]
  },
  {
   "cell_type": "markdown",
   "metadata": {},
   "source": [
    "For deployed robot machines where you don't want to constantly type in your sudo\n",
    "password, consider adding your user to sudoers file:\n",
    "\n",
    "```bash\n",
    "sudo visudo\n",
    "# Add this line at the end:\n",
    "<your username> ALL=(ALL) NOPASSWD:ALL\n",
    "```"
   ]
  },
  {
   "cell_type": "markdown",
   "metadata": {},
   "source": [
    "### Grant sudo to notebook"
   ]
  },
  {
   "cell_type": "code",
   "execution_count": 2,
   "metadata": {},
   "outputs": [
    {
     "name": "stdout",
     "output_type": "stream",
     "text": [
      "🔐 Sudo setup for Jupyter...\n",
      "sudo access granted\n"
     ]
    }
   ],
   "source": [
    "import subprocess\n",
    "import getpass\n",
    "\n",
    "def sudo_warmup():\n",
    "    try:\n",
    "        print(\"🔐 Sudo setup for Jupyter...\")\n",
    "        pw = getpass.getpass(\"Enter your password for sudo: \")\n",
    "        proc = subprocess.run(\n",
    "            [\"sudo\", \"-S\", \"echo\", \"sudo access granted\"],\n",
    "            input=pw + \"\\n\", text=True, check=True, capture_output=True\n",
    "        )\n",
    "        print(proc.stdout.strip())\n",
    "    except subprocess.CalledProcessError as e:\n",
    "        print(\"❌ Sudo failed:\", e.stderr.strip())\n",
    "\n",
    "sudo_warmup()\n"
   ]
  },
  {
   "cell_type": "markdown",
   "metadata": {},
   "source": [
    "## Poll and Connect"
   ]
  },
  {
   "cell_type": "code",
   "execution_count": 3,
   "metadata": {},
   "outputs": [],
   "source": [
    "from piper_control import piper_connect"
   ]
  },
  {
   "cell_type": "code",
   "execution_count": 4,
   "metadata": {},
   "outputs": [
    {
     "name": "stdout",
     "output_type": "stream",
     "text": [
      "[('can_right', '1-4.2:1.0'), ('can_left', '1-4.4:1.0'), ('can2', '1-1:1.1')]\n"
     ]
    }
   ],
   "source": [
    "ports = piper_connect.find_ports()\n",
    "print(ports)"
   ]
  },
  {
   "cell_type": "code",
   "execution_count": 5,
   "metadata": {},
   "outputs": [
    {
     "name": "stdout",
     "output_type": "stream",
     "text": [
      "['can1', 'can2', 'can0']\n"
     ]
    }
   ],
   "source": [
    "piper_connect.activate()\n",
    "print(piper_connect.active_ports())"
   ]
  },
  {
   "cell_type": "markdown",
   "metadata": {},
   "source": [
    "# Initialize and Query State"
   ]
  },
  {
   "cell_type": "code",
   "execution_count": 15,
   "metadata": {},
   "outputs": [
    {
     "name": "stdout",
     "output_type": "stream",
     "text": [
      "[1.4330723710744444, -0.04164355524222223, 0.03417354617111111, -1.1729659570866666, 0.5178740868177778, 0.00918043170888889]\n",
      "[-0.00019198621444444444, -5.235987666666667e-05, -0.00026179938333333334, -0.0002967059677777778, 0.0, 0.0]\n",
      "[0.0756, 0.01535625, -0.02480625, -0.41883828, -0.89805828, -0.004792199999999999]\n",
      "(0.0, 0.0)\n"
     ]
    }
   ],
   "source": [
    "from piper_control import piper_control\n",
    "from piper_control import piper_init\n",
    "from piper_control import piper_interface\n",
    "\n",
    "robot = piper_interface.PiperInterface(can_port=\"can1\")\n",
    "\n",
    "# Resets the robot and enables the motors and motion controller for the arm.\n",
    "# This call is necessary to be able to both query state and send commands to the\n",
    "# robot.\n",
    "piper_init.reset_arm(\n",
    "    robot,\n",
    "    arm_controller=piper_interface.ArmController.POSITION_VELOCITY,\n",
    "    move_mode=piper_interface.MoveMode.JOINT,\n",
    ")\n",
    "# piper_init.reset_gripper(robot)\n",
    "\n",
    "print(robot.get_joint_positions())\n",
    "print(robot.get_joint_velocities())\n",
    "print(robot.get_joint_efforts())\n",
    "print(robot.get_gripper_state())"
   ]
  },
  {
   "cell_type": "code",
   "execution_count": 16,
   "metadata": {},
   "outputs": [
    {
     "name": "stdout",
     "output_type": "stream",
     "text": [
      "Arm Status:\n",
      "ctrl_mode: CAN_COMMAND\n",
      "arm_status: NORMAL\n",
      "mode_feed: JOINT\n",
      "teach_mode: OFF\n",
      "motion_status: REACHED_TARGET\n",
      "trajectory_num: 0\n",
      "err_code: 0\n",
      "  Joint 1: limit=OK comms=OK motor=OK\n",
      "  Joint 2: limit=OK comms=OK motor=OK\n",
      "  Joint 3: limit=OK comms=OK motor=OK\n",
      "  Joint 4: limit=OK comms=OK motor=OK\n",
      "  Joint 5: limit=OK comms=OK motor=OK\n",
      "  Joint 6: limit=OK comms=OK motor=OK\n",
      "\n",
      "Gripper Status:\n",
      "  voltage_too_low     : OK\n",
      "  motor_overheating   : OK\n",
      "  driver_overcurrent  : OK\n",
      "  driver_overheating  : OK\n",
      "  sensor_status       : OK\n",
      "  driver_error_status : OK\n",
      "  driver_enable_status: False\n",
      "  homing_status       : OK\n"
     ]
    }
   ],
   "source": [
    "# Prints out a higher level status of the robot.\n",
    "robot.show_status()"
   ]
  },
  {
   "cell_type": "markdown",
   "metadata": {},
   "source": [
    "## Resetting and enabling the robot"
   ]
  },
  {
   "cell_type": "code",
   "execution_count": 20,
   "metadata": {},
   "outputs": [],
   "source": [
    "# Sometimes, calling `reset()` doesn't work the first time and will throw an\n",
    "# error. In those instances, you can call reset() again and it should work.\n",
    "# If it still doesn't work, try turning the robot off and on again.\n",
    "# And if that _still_ doesn't work, take a look at the CAN connection.\n",
    "\n",
    "# The robot may physically drop when calling this, so move it to a safe position\n",
    "# or hold it when calling this.\n",
    "piper_init.reset_arm(\n",
    "    robot,\n",
    "    arm_controller=piper_interface.ArmController.POSITION_VELOCITY,\n",
    "    move_mode=piper_interface.MoveMode.JOINT,\n",
    ")\n",
    "# piper_init.reset_gripper(robot)"
   ]
  },
  {
   "cell_type": "markdown",
   "metadata": {},
   "source": [
    "## Move a joint"
   ]
  },
  {
   "cell_type": "code",
   "execution_count": null,
   "metadata": {},
   "outputs": [],
   "source": [
    "joint_angles = robot.get_joint_positions()\n",
    "joint_angles[-2] -= 0.1\n",
    "print(f\"setting joint angles to {joint_angles}\")\n",
    "robot.command_joint_positions(joint_angles)"
   ]
  },
  {
   "cell_type": "markdown",
   "metadata": {},
   "source": [
    "# Send Gripper Commands"
   ]
  },
  {
   "cell_type": "code",
   "execution_count": null,
   "metadata": {},
   "outputs": [],
   "source": [
    "# Opens the gripper\n",
    "robot.command_gripper(\n",
    "    position=piper_interface.GRIPPER_ANGLE_MAX * 0.9,\n",
    "    effort=piper_interface.GRIPPER_EFFORT_MAX * 0.5,\n",
    ")"
   ]
  },
  {
   "cell_type": "code",
   "execution_count": null,
   "metadata": {},
   "outputs": [],
   "source": [
    "# Closes the gripper\n",
    "robot.command_gripper(\n",
    "    position=piper_interface.GRIPPER_ANGLE_MAX * 0.1,\n",
    "    effort=piper_interface.GRIPPER_EFFORT_MAX * 0.5,\n",
    ")"
   ]
  },
  {
   "cell_type": "markdown",
   "metadata": {},
   "source": [
    "## Move to special positions"
   ]
  },
  {
   "cell_type": "code",
   "execution_count": 21,
   "metadata": {},
   "outputs": [],
   "source": [
    "# TODO(jscholz): Revisit the rest position.\n",
    "robot.command_joint_positions(piper_control.REST_POSITION)"
   ]
  },
  {
   "cell_type": "markdown",
   "metadata": {},
   "source": [
    "## Cartesian Control"
   ]
  },
  {
   "cell_type": "code",
   "execution_count": 18,
   "metadata": {},
   "outputs": [
    {
     "name": "stdout",
     "output_type": "stream",
     "text": [
      "Sending updated pose: [0.094921, -0.028419999999999997, 0.158448, -1.9959584985333334, 0.20146335212111113, -1.5786677347922224]\n"
     ]
    }
   ],
   "source": [
    "robot.set_arm_mode(\n",
    "    move_mode=piper_interface.MoveMode.POSITION,\n",
    "    arm_controller=piper_interface.ArmController.POSITION_VELOCITY,\n",
    ")\n",
    "\n",
    "ee_pose = robot.get_end_effector_pose()\n",
    "ee_pose[0] += 0.02  # Move X by 5 cm\n",
    "print(f\"Sending updated pose: {ee_pose}\")\n",
    "robot.command_cartesian_position(ee_pose)"
   ]
  },
  {
   "cell_type": "markdown",
   "metadata": {},
   "source": [
    "## Puppeteering"
   ]
  },
  {
   "cell_type": "code",
   "execution_count": null,
   "metadata": {},
   "outputs": [],
   "source": [
    "robot0 = piper_interface.PiperInterface(can_port=\"can0\")\n",
    "robot1 = piper_interface.PiperInterface(can_port=\"can1\")"
   ]
  },
  {
   "cell_type": "code",
   "execution_count": null,
   "metadata": {},
   "outputs": [],
   "source": [
    "\n",
    "for rbt in [robot0, robot1]:\n",
    "    piper_init.reset_arm(\n",
    "        rbt,\n",
    "        arm_controller=piper_interface.ArmController.POSITION_VELOCITY,\n",
    "        move_mode=piper_interface.MoveMode.JOINT,\n",
    "    )\n",
    "    piper_init.reset_gripper(rbt)\n"
   ]
  },
  {
   "cell_type": "code",
   "execution_count": null,
   "metadata": {},
   "outputs": [],
   "source": [
    "robot0.command_joint_positions(piper_control.REST_POSITION)"
   ]
  },
  {
   "cell_type": "code",
   "execution_count": null,
   "metadata": {},
   "outputs": [],
   "source": [
    "robot1.command_joint_positions(piper_control.REST_POSITION)"
   ]
  },
  {
   "cell_type": "code",
   "execution_count": null,
   "metadata": {},
   "outputs": [],
   "source": [
    "import time\n",
    "while True:\n",
    "  joint_angles = robot1.get_joint_positions()\n",
    "  print(f\"{joint_angles=}\")\n",
    "  time.sleep(0.01)\n",
    "  robot0.command_joint_positions(joint_angles)"
   ]
  }
 ],
 "metadata": {
  "kernelspec": {
   "display_name": "robot-new",
   "language": "python",
   "name": "python3"
  },
  "language_info": {
   "codemirror_mode": {
    "name": "ipython",
    "version": 3
   },
   "file_extension": ".py",
   "mimetype": "text/x-python",
   "name": "python",
   "nbconvert_exporter": "python",
   "pygments_lexer": "ipython3",
   "version": "3.10.17"
  }
 },
 "nbformat": 4,
 "nbformat_minor": 2
}
